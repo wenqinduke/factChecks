{
 "cells": [
  {
   "cell_type": "code",
   "execution_count": 1,
   "metadata": {
    "collapsed": true
   },
   "outputs": [],
   "source": [
    "import gensim\n",
    "model = gensim.models.KeyedVectors.load_word2vec_format('../Model/GoogleNews-vectors-negative300.bin', binary=True) #time usage: 71.88s"
   ]
  },
  {
   "cell_type": "code",
   "execution_count": null,
   "metadata": {
    "collapsed": true
   },
   "outputs": [],
   "source": []
  },
  {
   "cell_type": "code",
   "execution_count": 2,
   "metadata": {
    "collapsed": true
   },
   "outputs": [],
   "source": [
    "import match"
   ]
  },
  {
   "cell_type": "code",
   "execution_count": 3,
   "metadata": {
    "collapsed": true
   },
   "outputs": [
    {
     "name": "stdout",
     "output_type": "stream",
     "text": [
      "hillari\n",
      "independ\n",
      "0\n",
      "hillari\n",
      "analyst\n",
      "0\n",
      "hillari\n",
      "donald\n",
      "0\n",
      "hillari\n",
      "trump\n",
      "0\n",
      "hillari\n",
      "would\n",
      "0\n",
      "hillari\n",
      "add\n",
      "0\n",
      "hillari\n",
      "30\n",
      "0\n",
      "hillari\n",
      "trillion\n",
      "0\n",
      "hillari\n",
      "nation\n",
      "0\n",
      "hillari\n",
      "debt\n",
      "0\n",
      "clinton\n",
      "independ\n",
      "0.306784461909\n",
      "clinton\n",
      "analyst\n",
      "-0.0580442078978\n",
      "clinton\n",
      "donald\n",
      "0.48637518468\n",
      "clinton\n",
      "trump\n",
      "0.106107748794\n",
      "clinton\n",
      "would\n",
      "0.0663547558908\n",
      "clinton\n",
      "add\n",
      "0.00896330032782\n",
      "clinton\n",
      "30\n",
      "0\n",
      "clinton\n",
      "trillion\n",
      "0.206148380181\n",
      "clinton\n",
      "nation\n",
      "0.087895559024\n",
      "clinton\n",
      "debt\n",
      "0.0668709189097\n",
      "plan\n",
      "independ\n",
      "-0.00948379917599\n",
      "plan\n",
      "analyst\n",
      "0.0169991464479\n",
      "plan\n",
      "donald\n",
      "-0.0221176782801\n",
      "plan\n",
      "trump\n",
      "-0.0252722121998\n",
      "plan\n",
      "would\n",
      "0.318246380634\n",
      "plan\n",
      "add\n",
      "0.111919572131\n",
      "plan\n",
      "30\n",
      "0\n",
      "plan\n",
      "trillion\n",
      "0.197733717215\n",
      "plan\n",
      "nation\n",
      "0.161175913553\n",
      "plan\n",
      "debt\n",
      "0.189874909605\n",
      "add\n",
      "independ\n",
      "0.0254344487051\n",
      "add\n",
      "analyst\n",
      "0.00349111395487\n",
      "add\n",
      "donald\n",
      "0.0671188672479\n",
      "add\n",
      "trump\n",
      "0.312011870589\n",
      "add\n",
      "would\n",
      "0.188943310553\n",
      "nation\n",
      "independ\n",
      "0.00605572030079\n",
      "nation\n",
      "analyst\n",
      "0.0196131164862\n",
      "nation\n",
      "donald\n",
      "-0.072038426731\n",
      "nation\n",
      "trump\n",
      "0.0782855234074\n",
      "nation\n",
      "would\n",
      "0.130108807001\n",
      "nation\n",
      "30\n",
      "0\n",
      "nation\n",
      "trillion\n",
      "0.26357147574\n",
      "debt\n",
      "independ\n",
      "0.0562266017094\n",
      "debt\n",
      "analyst\n",
      "0.0710808165033\n",
      "debt\n",
      "donald\n",
      "0.0150264712955\n",
      "debt\n",
      "trump\n",
      "0.0308352008278\n",
      "debt\n",
      "would\n",
      "0.121785550787\n",
      "debt\n",
      "30\n",
      "0\n",
      "debt\n",
      "trillion\n",
      "0.359062077786\n",
      "3.7\n"
     ]
    },
    {
     "data": {
      "text/plain": [
       "4.5046215653131902"
      ]
     },
     "execution_count": 3,
     "metadata": {},
     "output_type": "execute_result"
    }
   ],
   "source": [
    "match.max_match_score(\"\", \"\", \"\", model)"
   ]
  },
  {
   "cell_type": "code",
   "execution_count": 5,
   "metadata": {
    "collapsed": true
   },
   "outputs": [
    {
     "data": {
      "text/plain": [
       "[(u'assaults', 0.7228798866271973),\n",
       " (u'assualt', 0.7081006169319153),\n",
       " (u'assaulting', 0.6537147760391235),\n",
       " (u'asault', 0.6456710696220398),\n",
       " (u'aggravated_assault', 0.6043489575386047),\n",
       " (u'attack', 0.5970098972320557),\n",
       " (u'attempted_murder', 0.5962994694709778),\n",
       " (u'Assault', 0.5838609933853149),\n",
       " (u'sexual_assault', 0.5796244144439697),\n",
       " (u'assult', 0.577904462814331),\n",
       " (u'unprovoked_attack', 0.576384425163269),\n",
       " (u'Charge_Aggravated_battery', 0.55844646692276),\n",
       " (u'altercation', 0.547866702079773),\n",
       " (u'rape', 0.5476803779602051),\n",
       " (u'stabbing', 0.5456311702728271),\n",
       " (u'burglarly', 0.5362602472305298),\n",
       " (u'criminal_mischief', 0.5362445116043091),\n",
       " (u'attempted_robbery', 0.5354133248329163),\n",
       " (u'burglary', 0.535079836845398),\n",
       " (u'Charge_Aggravated_assault', 0.5330861806869507),\n",
       " (u'misdemeanor_assault', 0.5327143669128418),\n",
       " (u'incident', 0.531814455986023),\n",
       " (u'trespassing_resisting_arrest', 0.5317228436470032),\n",
       " (u'First_Degree_Assault', 0.5315988063812256),\n",
       " (u'Brittany_Maggard', 0.5313729047775269),\n",
       " (u'aggravated_battery', 0.5305905938148499),\n",
       " (u'assaulted', 0.5287256240844727),\n",
       " (u'aggrevated_assault', 0.527356743812561),\n",
       " (u'aggravated_felonious', 0.5267869234085083),\n",
       " (u'Class_IIIA_felony', 0.5266839861869812)]"
      ]
     },
     "execution_count": 5,
     "metadata": {},
     "output_type": "execute_result"
    }
   ],
   "source": [
    "model.wv.most_similar(\"assault\", topn=30)"
   ]
  },
  {
   "cell_type": "code",
   "execution_count": 13,
   "metadata": {},
   "outputs": [
    {
     "data": {
      "text/plain": [
       "0.019517080089663158"
      ]
     },
     "execution_count": 13,
     "metadata": {},
     "output_type": "execute_result"
    }
   ],
   "source": [
    "model.similarity('get', 'rais')"
   ]
  },
  {
   "cell_type": "code",
   "execution_count": null,
   "metadata": {
    "collapsed": true
   },
   "outputs": [],
   "source": []
  },
  {
   "cell_type": "code",
   "execution_count": null,
   "metadata": {
    "collapsed": true
   },
   "outputs": [],
   "source": []
  },
  {
   "cell_type": "code",
   "execution_count": null,
   "metadata": {
    "collapsed": true
   },
   "outputs": [],
   "source": []
  },
  {
   "cell_type": "code",
   "execution_count": null,
   "metadata": {
    "collapsed": true
   },
   "outputs": [],
   "source": []
  },
  {
   "cell_type": "code",
   "execution_count": 8,
   "metadata": {
    "collapsed": true
   },
   "outputs": [],
   "source": [
    "from nltk.stem import PorterStemmer\n",
    "\n",
    "ps = PorterStemmer()"
   ]
  },
  {
   "cell_type": "code",
   "execution_count": 9,
   "metadata": {},
   "outputs": [
    {
     "data": {
      "text/plain": [
       "u'larg'"
      ]
     },
     "execution_count": 9,
     "metadata": {},
     "output_type": "execute_result"
    }
   ],
   "source": [
    "ps.stem('largely')"
   ]
  },
  {
   "cell_type": "code",
   "execution_count": 16,
   "metadata": {
    "collapsed": true
   },
   "outputs": [],
   "source": [
    "import time\n",
    "import nltk"
   ]
  },
  {
   "cell_type": "code",
   "execution_count": null,
   "metadata": {
    "collapsed": true
   },
   "outputs": [],
   "source": []
  },
  {
   "cell_type": "code",
   "execution_count": 17,
   "metadata": {},
   "outputs": [
    {
     "data": {
      "text/plain": [
       "0.33345580101013184"
      ]
     },
     "execution_count": 17,
     "metadata": {},
     "output_type": "execute_result"
    }
   ],
   "source": [
    "t0 = time.time()\n",
    "nltk.pos_tag([u'donald', u'trump', u'use', u'illeg', u'immigr', u'build', u'trump', u'tower'])\n",
    "t1 = time.time()\n",
    "t1-t0\n"
   ]
  },
  {
   "cell_type": "code",
   "execution_count": null,
   "metadata": {
    "collapsed": true
   },
   "outputs": [],
   "source": []
  },
  {
   "cell_type": "code",
   "execution_count": null,
   "metadata": {
    "collapsed": true
   },
   "outputs": [],
   "source": []
  },
  {
   "cell_type": "code",
   "execution_count": null,
   "metadata": {
    "collapsed": true
   },
   "outputs": [],
   "source": []
  },
  {
   "cell_type": "code",
   "execution_count": null,
   "metadata": {
    "collapsed": true
   },
   "outputs": [],
   "source": []
  },
  {
   "cell_type": "code",
   "execution_count": null,
   "metadata": {
    "collapsed": true
   },
   "outputs": [],
   "source": []
  },
  {
   "cell_type": "code",
   "execution_count": null,
   "metadata": {
    "collapsed": true
   },
   "outputs": [],
   "source": []
  }
 ],
 "metadata": {
  "kernelspec": {
   "display_name": "Python 2",
   "language": "python",
   "name": "python2"
  },
  "language_info": {
   "codemirror_mode": {
    "name": "ipython",
    "version": 2
   },
   "file_extension": ".py",
   "mimetype": "text/x-python",
   "name": "python",
   "nbconvert_exporter": "python",
   "pygments_lexer": "ipython2",
   "version": "2.7.13"
  }
 },
 "nbformat": 4,
 "nbformat_minor": 2
}
